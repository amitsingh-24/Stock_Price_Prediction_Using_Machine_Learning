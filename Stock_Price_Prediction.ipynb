{
  "nbformat": 4,
  "nbformat_minor": 0,
  "metadata": {
    "colab": {
      "name": "Stock Price Prediction.ipynb",
      "provenance": [],
      "mount_file_id": "1mfks9lXp86sD4dWQ74Xrk6OluGBbq49f",
      "authorship_tag": "ABX9TyO7g6G5Ide/BuAvGhQ6RgAl"
    },
    "kernelspec": {
      "name": "python3",
      "display_name": "Python 3"
    },
    "language_info": {
      "name": "python"
    }
  },
  "cells": [
    {
      "cell_type": "markdown",
      "source": [
        "**Import pandas to import a CSV file:**"
      ],
      "metadata": {
        "id": "uy4NLfq3P9uj"
      }
    },
    {
      "cell_type": "code",
      "execution_count": 2,
      "metadata": {
        "colab": {
          "base_uri": "https://localhost:8080/"
        },
        "id": "o-JPQjhNMy2h",
        "outputId": "a0589d77-d49b-4221-dba2-5292904853ff"
      },
      "outputs": [
        {
          "output_type": "stream",
          "name": "stdout",
          "text": [
            "         Date      Open      High       Low     Close  Adj Close     Volume\n",
            "0  1980-12-12  0.128348  0.128906  0.128348  0.128348   0.100600  469033600\n",
            "1  1980-12-15  0.122210  0.122210  0.121652  0.121652   0.095352  175884800\n",
            "2  1980-12-16  0.113281  0.113281  0.112723  0.112723   0.088353  105728000\n",
            "3  1980-12-17  0.115513  0.116071  0.115513  0.115513   0.090540   86441600\n",
            "4  1980-12-18  0.118862  0.119420  0.118862  0.118862   0.093165   73449600\n"
          ]
        }
      ],
      "source": [
        "import pandas as pd\n",
        "apple = pd.read_csv(\"drive/MyDrive/Datasets/AAPL.csv\")\n",
        "print(apple.head())"
      ]
    },
    {
      "cell_type": "markdown",
      "source": [
        "**To get the number of training days:**"
      ],
      "metadata": {
        "id": "0IMOglXzQC0R"
      }
    },
    {
      "cell_type": "code",
      "source": [
        "print(\"trainging days =\",apple.shape)"
      ],
      "metadata": {
        "colab": {
          "base_uri": "https://localhost:8080/"
        },
        "id": "Bl9Pd444NB2V",
        "outputId": "005e8d9f-23cb-4f21-afaa-5ac2136eccfe"
      },
      "execution_count": 3,
      "outputs": [
        {
          "output_type": "stream",
          "name": "stdout",
          "text": [
            "trainging days = (10272, 7)\n"
          ]
        }
      ]
    },
    {
      "cell_type": "markdown",
      "source": [
        "**To Visualize the close price Data:**"
      ],
      "metadata": {
        "id": "5tQjfRs8QJFD"
      }
    },
    {
      "cell_type": "code",
      "source": [
        "import matplotlib.pyplot as plt\n",
        "import seaborn as sns\n",
        "sns.set()\n",
        "plt.figure(figsize=(10, 4))\n",
        "plt.title(\"Apple's Stock Price\")\n",
        "plt.xlabel(\"Days\")\n",
        "plt.ylabel(\"Close Price USD ($)\")\n",
        "plt.plot(apple[\"Close\"])\n",
        "plt.show()"
      ],
      "metadata": {
        "colab": {
          "base_uri": "https://localhost:8080/",
          "height": 301
        },
        "id": "Qkdf90T8NB_x",
        "outputId": "14c54439-6b64-4796-bad2-7223fcc1ff3f"
      },
      "execution_count": 7,
      "outputs": [
        {
          "output_type": "display_data",
          "data": {
            "text/plain": [
              "<Figure size 720x288 with 1 Axes>"
            ],
            "image/png": "[encoded data removed]"
          },
          "metadata": {}
        }
      ]
    },
    {
      "cell_type": "markdown",
      "source": [
        "**To get the close price:**"
      ],
      "metadata": {
        "id": "d4Gemeu1QN7S"
      }
    },
    {
      "cell_type": "code",
      "source": [
        "apple = apple[[\"Close\"]]\n",
        "print(apple.head())"
      ],
      "metadata": {
        "colab": {
          "base_uri": "https://localhost:8080/"
        },
        "id": "d4N5rgGmNCCC",
        "outputId": "8a3817da-3387-4387-e46d-af2b869bcaaa"
      },
      "execution_count": 8,
      "outputs": [
        {
          "output_type": "stream",
          "name": "stdout",
          "text": [
            "      Close\n",
            "0  0.128348\n",
            "1  0.121652\n",
            "2  0.112723\n",
            "3  0.115513\n",
            "4  0.118862\n"
          ]
        }
      ]
    },
    {
      "cell_type": "markdown",
      "source": [
        "**Creating a variable to predict ‘X’ days in the future:**"
      ],
      "metadata": {
        "id": "SykHRqc_Qisd"
      }
    },
    {
      "cell_type": "code",
      "source": [
        "futureDays = 25"
      ],
      "metadata": {
        "id": "vO6IjBhqNCGe"
      },
      "execution_count": 9,
      "outputs": []
    },
    {
      "cell_type": "markdown",
      "source": [
        "**Create a new target column shifted ‘X’ units/days up:**"
      ],
      "metadata": {
        "id": "xt-MPGH2QxSv"
      }
    },
    {
      "cell_type": "code",
      "source": [
        "apple[\"Prediction\"] = apple[[\"Close\"]].shift(-futureDays)\n",
        "print(apple.head())\n",
        "print(apple.tail())"
      ],
      "metadata": {
        "colab": {
          "base_uri": "https://localhost:8080/"
        },
        "id": "ogmW_93aNCI7",
        "outputId": "84b2b367-4704-4c77-c915-156ef62e7fc0"
      },
      "execution_count": 11,
      "outputs": [
        {
          "output_type": "stream",
          "name": "stdout",
          "text": [
            "      Close  Prediction\n",
            "0  0.128348    0.142299\n",
            "1  0.121652    0.145089\n",
            "2  0.112723    0.146763\n",
            "3  0.115513    0.146205\n",
            "4  0.118862    0.143973\n",
            "            Close  Prediction\n",
            "10267  152.509995         NaN\n",
            "10268  153.649994         NaN\n",
            "10269  154.300003         NaN\n",
            "10270  156.690002         NaN\n",
            "10271  155.110001         NaN\n"
          ]
        },
        {
          "output_type": "stream",
          "name": "stderr",
          "text": [
            "/usr/local/lib/python3.7/dist-packages/ipykernel_launcher.py:1: SettingWithCopyWarning: \n",
            "A value is trying to be set on a copy of a slice from a DataFrame.\n",
            "Try using .loc[row_indexer,col_indexer] = value instead\n",
            "\n",
            "See the caveats in the documentation: https://pandas.pydata.org/pandas-docs/stable/user_guide/indexing.html#returning-a-view-versus-a-copy\n",
            "  \"\"\"Entry point for launching an IPython kernel.\n"
          ]
        }
      ]
    },
    {
      "cell_type": "markdown",
      "source": [
        "**Create a new target column shifted ‘X’ units/days up:**"
      ],
      "metadata": {
        "id": "zgHJaHqYQ2Zf"
      }
    },
    {
      "cell_type": "code",
      "source": [
        "import numpy as np\n",
        "x = np.array(apple.drop([\"Prediction\"], 1))[:-futureDays]\n",
        "print(x)"
      ],
      "metadata": {
        "colab": {
          "base_uri": "https://localhost:8080/"
        },
        "id": "2-fmWk1aNCLq",
        "outputId": "973543f7-ed21-4020-8bdb-ca1ec8719dee"
      },
      "execution_count": 12,
      "outputs": [
        {
          "output_type": "stream",
          "name": "stdout",
          "text": [
            "[[1.28348000e-01]\n",
            " [1.21652000e-01]\n",
            " [1.12723000e-01]\n",
            " ...\n",
            " [1.45860001e+02]\n",
            " [1.45520004e+02]\n",
            " [1.47360001e+02]]\n"
          ]
        },
        {
          "output_type": "stream",
          "name": "stderr",
          "text": [
            "/usr/local/lib/python3.7/dist-packages/ipykernel_launcher.py:2: FutureWarning: In a future version of pandas all arguments of DataFrame.drop except for the argument 'labels' will be keyword-only\n",
            "  \n"
          ]
        }
      ]
    },
    {
      "cell_type": "markdown",
      "source": [
        "**To create a target dataset (y) and convert it to a numpy array and get all of the target values except the last ‘x’ rows days:**"
      ],
      "metadata": {
        "id": "A7iQH4uRQ-Z8"
      }
    },
    {
      "cell_type": "code",
      "source": [
        "y = np.array(apple[\"Prediction\"])[:-futureDays]\n",
        "print(y)"
      ],
      "metadata": {
        "colab": {
          "base_uri": "https://localhost:8080/"
        },
        "id": "sAnUmjM_NCON",
        "outputId": "0c7865d0-2018-4f6b-aa73-33e479279947"
      },
      "execution_count": 13,
      "outputs": [
        {
          "output_type": "stream",
          "name": "stdout",
          "text": [
            "[1.42299000e-01 1.45089000e-01 1.46763000e-01 ... 1.54300003e+02\n",
            " 1.56690002e+02 1.55110001e+02]\n"
          ]
        }
      ]
    },
    {
      "cell_type": "markdown",
      "source": [
        "# **Split the data into 75% training and 25% testing**"
      ],
      "metadata": {
        "id": "uI_ZjjIeRDsP"
      }
    },
    {
      "cell_type": "code",
      "source": [
        "from sklearn.model_selection import train_test_split\n",
        "xtrain, xtest, ytrain, ytest = train_test_split(x, y, test_size=0.25)"
      ],
      "metadata": {
        "id": "OW16NUNTNjvx"
      },
      "execution_count": 23,
      "outputs": []
    },
    {
      "cell_type": "markdown",
      "source": [
        "# **Creating Models**"
      ],
      "metadata": {
        "id": "0LpyHzHjRNPx"
      }
    },
    {
      "cell_type": "code",
      "source": [
        "# Creating the decision tree regressor model\n",
        "from sklearn.tree import DecisionTreeRegressor\n",
        "tree = DecisionTreeRegressor().fit(xtrain, ytrain)\n",
        "\n",
        "# creating the Linear Regression model\n",
        "from sklearn.linear_model import LinearRegression\n",
        "linear = LinearRegression().fit(xtrain, ytrain)"
      ],
      "metadata": {
        "id": "LR43398tNjyc"
      },
      "execution_count": 15,
      "outputs": []
    },
    {
      "cell_type": "markdown",
      "source": [
        "**To get the last ‘x’ rows/days of the feature dataset:**"
      ],
      "metadata": {
        "id": "6l-9BuFkRQzb"
      }
    },
    {
      "cell_type": "code",
      "source": [
        "xfuture = apple.drop([\"Prediction\"], 1)[:-futureDays]\n",
        "xfuture = xfuture.tail(futureDays)\n",
        "xfuture = np.array(xfuture)\n",
        "print(xfuture)"
      ],
      "metadata": {
        "colab": {
          "base_uri": "https://localhost:8080/"
        },
        "id": "tBnp7I8_Nj0_",
        "outputId": "e47412f2-3a61-44ba-8cfa-cbba97908a7b"
      },
      "execution_count": 16,
      "outputs": [
        {
          "output_type": "stream",
          "name": "stdout",
          "text": [
            "[[136.330002]\n",
            " [136.960007]\n",
            " [137.270004]\n",
            " [139.960007]\n",
            " [142.020004]\n",
            " [144.570007]\n",
            " [143.240005]\n",
            " [145.110001]\n",
            " [144.5     ]\n",
            " [145.639999]\n",
            " [149.149994]\n",
            " [148.479996]\n",
            " [146.389999]\n",
            " [142.449997]\n",
            " [146.149994]\n",
            " [145.399994]\n",
            " [146.800003]\n",
            " [148.559998]\n",
            " [148.990005]\n",
            " [146.770004]\n",
            " [144.979996]\n",
            " [145.639999]\n",
            " [145.860001]\n",
            " [145.520004]\n",
            " [147.360001]]\n"
          ]
        },
        {
          "output_type": "stream",
          "name": "stderr",
          "text": [
            "/usr/local/lib/python3.7/dist-packages/ipykernel_launcher.py:1: FutureWarning: In a future version of pandas all arguments of DataFrame.drop except for the argument 'labels' will be keyword-only\n",
            "  \"\"\"Entry point for launching an IPython kernel.\n"
          ]
        }
      ]
    },
    {
      "cell_type": "markdown",
      "source": [
        "# **To see the model tree prediction**"
      ],
      "metadata": {
        "id": "kP5TK6w9Rama"
      }
    },
    {
      "cell_type": "code",
      "source": [
        "treePrediction = tree.predict(xfuture)\n",
        "print(\"Decision Tree prediction =\",treePrediction)"
      ],
      "metadata": {
        "colab": {
          "base_uri": "https://localhost:8080/"
        },
        "id": "5YZFzG3cNj4j",
        "outputId": "6614f47a-669c-4ea1-eab3-fcf7b8229ffc"
      },
      "execution_count": 17,
      "outputs": [
        {
          "output_type": "stream",
          "name": "stdout",
          "text": [
            "Decision Tree prediction = [124.760002 147.059998 146.139999 146.089996 145.600006 145.860001\n",
            " 148.889999 150.190002 145.860001 150.190002 146.360001 146.699997\n",
            " 148.190002 149.710007 149.619995 150.190002 151.830002 148.600006\n",
            " 153.119995 151.830002 145.860001 150.190002 154.300003 150.190002\n",
            " 155.110001]\n"
          ]
        }
      ]
    },
    {
      "cell_type": "markdown",
      "source": [
        "# **To see the model linear regression prediction**"
      ],
      "metadata": {
        "id": "6IX7tpyPRfJ_"
      }
    },
    {
      "cell_type": "code",
      "source": [
        "linearPrediction = linear.predict(xfuture)\n",
        "print(\"Linear regression Prediction =\",linearPrediction)"
      ],
      "metadata": {
        "colab": {
          "base_uri": "https://localhost:8080/"
        },
        "id": "KKBIxEjvNtqx",
        "outputId": "7c7d978c-825f-4c7b-c0a3-a25c8db21fa3"
      },
      "execution_count": 18,
      "outputs": [
        {
          "output_type": "stream",
          "name": "stdout",
          "text": [
            "Linear regression Prediction = [140.87594392 141.52711099 141.84752089 144.62788195 146.75707491\n",
            " 149.39273332 148.01805613 149.95086589 149.32037477 150.4986667\n",
            " 154.12656355 153.43406011 151.27385944 147.20151151 151.02579259\n",
            " 150.25059985 151.6976356  153.5167494  153.96120047 151.66662893\n",
            " 149.81649399 150.4986667  150.72605863 150.37464103 152.27644411]\n"
          ]
        }
      ]
    },
    {
      "cell_type": "markdown",
      "source": [
        "# **Visualize decision tree predictions**"
      ],
      "metadata": {
        "id": "C_E4NKQPRij2"
      }
    },
    {
      "cell_type": "code",
      "source": [
        "predictions = treePrediction\n",
        "valid = apple[x.shape[0]:]\n",
        "valid[\"Predictions\"] = predictions\n",
        "plt.figure(figsize=(10, 6))\n",
        "plt.title(\"Apple's Stock Price Prediction Model(Decision Tree Regressor Model)\")\n",
        "plt.xlabel(\"Days\")\n",
        "plt.ylabel(\"Close Price USD ($)\")\n",
        "plt.plot(apple[\"Close\"])\n",
        "plt.plot(valid[[\"Close\", \"Predictions\"]])\n",
        "plt.legend([\"Original\", \"Valid\", \"Predictions\"])\n",
        "plt.show()"
      ],
      "metadata": {
        "colab": {
          "base_uri": "https://localhost:8080/",
          "height": 514
        },
        "id": "LBQXIIgiNttv",
        "outputId": "b6784ff1-0bcc-4c4a-ff24-81bdfe5956ae"
      },
      "execution_count": 21,
      "outputs": [
        {
          "output_type": "stream",
          "name": "stderr",
          "text": [
            "/usr/local/lib/python3.7/dist-packages/ipykernel_launcher.py:3: SettingWithCopyWarning: \n",
            "A value is trying to be set on a copy of a slice from a DataFrame.\n",
            "Try using .loc[row_indexer,col_indexer] = value instead\n",
            "\n",
            "See the caveats in the documentation: https://pandas.pydata.org/pandas-docs/stable/user_guide/indexing.html#returning-a-view-versus-a-copy\n",
            "  This is separate from the ipykernel package so we can avoid doing imports until\n"
          ]
        },
        {
          "output_type": "display_data",
          "data": {
            "text/plain": [
              "<Figure size 720x432 with 1 Axes>"
            ],
            "image/png": "[encoded data removed]"
          },
          "metadata": {}
        }
      ]
    },
    {
      "cell_type": "markdown",
      "source": [
        "# **Visualize the linear model predictions**"
      ],
      "metadata": {
        "id": "VzAMUbkaRnKM"
      }
    },
    {
      "cell_type": "code",
      "source": [
        "predictions = linearPrediction\n",
        "valid = apple[x.shape[0]:]\n",
        "valid[\"Predictions\"] = predictions\n",
        "plt.figure(figsize=(10, 6))\n",
        "plt.title(\"Apple's Stock Price Prediction Model(Linear Regression Model)\")\n",
        "plt.xlabel(\"Days\")\n",
        "plt.ylabel(\"Close Price USD ($)\")\n",
        "plt.plot(apple[\"Close\"])\n",
        "plt.plot(valid[[\"Close\", \"Predictions\"]])\n",
        "plt.legend([\"Original\", \"Valid\", \"Predictions\"])\n",
        "plt.show()"
      ],
      "metadata": {
        "colab": {
          "base_uri": "https://localhost:8080/",
          "height": 514
        },
        "id": "WFGU_FftNtwN",
        "outputId": "f3a65535-18e6-484b-b1f4-754053526c74"
      },
      "execution_count": 22,
      "outputs": [
        {
          "output_type": "stream",
          "name": "stderr",
          "text": [
            "/usr/local/lib/python3.7/dist-packages/ipykernel_launcher.py:3: SettingWithCopyWarning: \n",
            "A value is trying to be set on a copy of a slice from a DataFrame.\n",
            "Try using .loc[row_indexer,col_indexer] = value instead\n",
            "\n",
            "See the caveats in the documentation: https://pandas.pydata.org/pandas-docs/stable/user_guide/indexing.html#returning-a-view-versus-a-copy\n",
            "  This is separate from the ipykernel package so we can avoid doing imports until\n"
          ]
        },
        {
          "output_type": "display_data",
          "data": {
            "text/plain": [
              "<Figure size 720x432 with 1 Axes>"
            ],
            "image/png": "[encoded data removed]"
          },
          "metadata": {}
        }
      ]
    },
    {
      "cell_type": "code",
      "source": [
        ""
      ],
      "metadata": {
        "id": "abji-GZyN1Kj"
      },
      "execution_count": null,
      "outputs": []
    }
  ]
}